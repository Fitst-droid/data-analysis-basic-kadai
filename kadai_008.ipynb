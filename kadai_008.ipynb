{
  "nbformat": 4,
  "nbformat_minor": 0,
  "metadata": {
    "colab": {
      "provenance": []
    },
    "kernelspec": {
      "name": "python3",
      "display_name": "Python 3"
    },
    "language_info": {
      "name": "python"
    }
  },
  "cells": [
    {
      "cell_type": "code",
      "execution_count": 5,
      "metadata": {
        "id": "9wHA8IWmpuoY",
        "colab": {
          "base_uri": "https://localhost:8080/"
        },
        "outputId": "ba1afaa5-db17-42c5-cec5-a0b519671ce4"
      },
      "outputs": [
        {
          "output_type": "execute_result",
          "data": {
            "text/plain": [
              "0.9629629629629629"
            ]
          },
          "metadata": {},
          "execution_count": 5
        }
      ],
      "source": [
        "# ワインのデータセットをインポート\n",
        "from sklearn.datasets import load_wine\n",
        "import pandas as pd\n",
        "\n",
        "# 学習モデルとテストデータを分割するための関数を呼び出す\n",
        "from sklearn.model_selection import train_test_split\n",
        "\n",
        "# ランダムフォレストをインポート\n",
        "from sklearn.ensemble import RandomForestClassifier\n",
        "\n",
        "# インポートしたランダムフォレストをmodelに代入\n",
        "model = RandomForestClassifier(random_state=3)\n",
        "\n",
        "# 予測モデルの正解率を評価するためにaccuracy_scoreクラスをインポート\n",
        "from sklearn.metrics import accuracy_score\n",
        "\n",
        "# データセットをdatasetに代入\n",
        "dataset = load_wine()\n",
        "\n",
        "# データフレームでデータを表形式で表示\n",
        "df = pd.DataFrame(dataset.data, columns=dataset.feature_names)\n",
        "\n",
        "dataset.target\n",
        "\n",
        "# ワイン種別を追加\n",
        "df['category'] = dataset.target\n",
        "\n",
        "# データセットをXとyに代入\n",
        "X = dataset.data\n",
        "y = dataset.target\n",
        "\n",
        "# 学習データとテストデータに分割 7:3\n",
        "X_train, X_test, y_train, y_test = train_test_split(X, y, test_size=0.3, random_state=5)\n",
        "\n",
        "# 予測モデルの学習\n",
        "model.fit(X_train, y_train)\n",
        "\n",
        "# 予測モデルの評価(正解率)\n",
        "y_pred = model.predict(X_test)\n",
        "accuracy_score(y_test, y_pred)\n",
        "\n",
        "# 学習データの正解率\n",
        "model.score(X_test, y_test)\n",
        "\n",
        "\n",
        "\n",
        "\n"
      ]
    }
  ]
}